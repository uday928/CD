{
  "nbformat": 4,
  "nbformat_minor": 0,
  "metadata": {
    "colab": {
      "provenance": [],
      "toc_visible": true
    },
    "kernelspec": {
      "name": "python3",
      "display_name": "Python 3"
    },
    "language_info": {
      "name": "python"
    }
  },
  "cells": [
    {
      "cell_type": "code",
      "execution_count": null,
      "metadata": {
        "colab": {
          "base_uri": "https://localhost:8080/"
        },
        "id": "Cec-bHAeAJaj",
        "outputId": "92b22c2a-7c39-4a0f-db71-9bea8e4ea980"
      },
      "outputs": [
        {
          "output_type": "stream",
          "name": "stdout",
          "text": [
            "Enter Your Code: int a=0;int b=5; return 0\n",
            "['int', 'a', '=', '0', ';', 'int', 'b', '=', '5', ';', 'return', '0']\n"
          ]
        }
      ],
      "source": [
        "import re\n",
        "\n",
        "import nltk\n",
        "\n",
        "input_program = input(\"Enter Your Code: \");\n",
        "input_program_tokens = nltk.wordpunct_tokenize(input_program);\n",
        "\n",
        "print(input_program_tokens);"
      ]
    },
    {
      "cell_type": "code",
      "source": [
        "RE_Keywords = \"auto|break|case|char|const|continue|default|do|double|else|enum|extern|float|for|goto|if|int|long|register|return|short|signed|sizeof|static|struct|switch|typedef|union|unsigned|void|volatile|while|string|class|struc|include\"\n",
        "RE_Operators = \"(\\++)|(-)|(=)|(\\*)|(/)|(%)|(--)|(<=)|(>=)\"\n",
        "RE_Numerals = \"^(\\d+)$\"\n",
        "RE_Special_Characters = \"[\\[@&~!#$\\^\\|{}\\]:;<>?,\\.']|\\(\\)|\\(|\\)|{}|\\[\\]|\\\"\"\n",
        "RE_Identifiers = \"^[a-zA-Z_]+[a-zA-Z0-9_]*\"\n",
        "RE_Headers = \"([a-zA-Z]+\\.[h])\"\n",
        "\n",
        "\n",
        "#To Categorize The Tokens\n",
        "\n",
        "for token in input_program_tokens:\n",
        "    if(re.findall(RE_Keywords,token)):\n",
        "        print(token , \"-------> Keyword\")\n",
        "    elif(re.findall(RE_Operators,token)):\n",
        "        print(token, \"-------> Operator\")\n",
        "    elif(re.findall(RE_Numerals,token)):\n",
        "        print(token, \"-------> Numeral\")\n",
        "    elif(re.findall(RE_Special_Characters,token)):\n",
        "        print(token, \"-------> Special Character/Symbol\")\n",
        "    elif(re.findall(RE_Identifiers,token)):\n",
        "        print(token, \"-------> Identifiers\")\n",
        "    else:\n",
        "        print(\"Unknown Value\")"
      ],
      "metadata": {
        "colab": {
          "base_uri": "https://localhost:8080/"
        },
        "id": "9DIa3GK8AmD_",
        "outputId": "805aa2b1-d96c-4737-826e-6ea458fe07e6"
      },
      "execution_count": null,
      "outputs": [
        {
          "output_type": "stream",
          "name": "stdout",
          "text": [
            "int -------> Keyword\n",
            "a -------> Identifiers\n",
            "= -------> Operator\n",
            "0 -------> Numeral\n",
            "; -------> Special Character/Symbol\n",
            "int -------> Keyword\n",
            "b -------> Identifiers\n",
            "= -------> Operator\n",
            "5 -------> Numeral\n",
            "; -------> Special Character/Symbol\n",
            "return -------> Keyword\n",
            "0 -------> Numeral\n"
          ]
        }
      ]
    },
    {
      "cell_type": "code",
      "source": [
        "# VIVA WILL BE HAPPEND"
      ],
      "metadata": {
        "id": "Mgfk4beCBIR-"
      },
      "execution_count": null,
      "outputs": []
    }
  ]
}